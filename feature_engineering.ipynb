{
 "cells": [
  {
   "cell_type": "markdown",
   "metadata": {},
   "source": [
    "# Load data"
   ]
  },
  {
   "cell_type": "code",
   "execution_count": 1,
   "metadata": {},
   "outputs": [],
   "source": [
    "import pandas as pd\n",
    "import numpy as np\n",
    "from itertools import product\n",
    "df_Train = pd.read_hdf('All_train.hdf', key='train')"
   ]
  },
  {
   "cell_type": "code",
   "execution_count": 15,
   "metadata": {},
   "outputs": [
    {
     "data": {
      "text/html": [
       "<div>\n",
       "<style scoped>\n",
       "    .dataframe tbody tr th:only-of-type {\n",
       "        vertical-align: middle;\n",
       "    }\n",
       "\n",
       "    .dataframe tbody tr th {\n",
       "        vertical-align: top;\n",
       "    }\n",
       "\n",
       "    .dataframe thead th {\n",
       "        text-align: right;\n",
       "    }\n",
       "</style>\n",
       "<table border=\"1\" class=\"dataframe\">\n",
       "  <thead>\n",
       "    <tr style=\"text-align: right;\">\n",
       "      <th></th>\n",
       "      <th>shop_id</th>\n",
       "      <th>item_id</th>\n",
       "      <th>date_block_num</th>\n",
       "      <th>target</th>\n",
       "      <th>num_holidays</th>\n",
       "      <th>item_target_enc</th>\n",
       "      <th>shop_target_enc</th>\n",
       "    </tr>\n",
       "  </thead>\n",
       "  <tbody>\n",
       "    <tr>\n",
       "      <th>22987</th>\n",
       "      <td>2</td>\n",
       "      <td>30</td>\n",
       "      <td>0</td>\n",
       "      <td>0.0</td>\n",
       "      <td>6.0</td>\n",
       "      <td>0.222136</td>\n",
       "      <td>0.222136</td>\n",
       "    </tr>\n",
       "    <tr>\n",
       "      <th>20994</th>\n",
       "      <td>2</td>\n",
       "      <td>31</td>\n",
       "      <td>0</td>\n",
       "      <td>0.0</td>\n",
       "      <td>6.0</td>\n",
       "      <td>0.222136</td>\n",
       "      <td>0.000000</td>\n",
       "    </tr>\n",
       "    <tr>\n",
       "      <th>20995</th>\n",
       "      <td>2</td>\n",
       "      <td>32</td>\n",
       "      <td>0</td>\n",
       "      <td>0.0</td>\n",
       "      <td>6.0</td>\n",
       "      <td>0.222136</td>\n",
       "      <td>0.000000</td>\n",
       "    </tr>\n",
       "    <tr>\n",
       "      <th>22492</th>\n",
       "      <td>2</td>\n",
       "      <td>33</td>\n",
       "      <td>0</td>\n",
       "      <td>1.0</td>\n",
       "      <td>6.0</td>\n",
       "      <td>0.222136</td>\n",
       "      <td>0.000000</td>\n",
       "    </tr>\n",
       "    <tr>\n",
       "      <th>22491</th>\n",
       "      <td>2</td>\n",
       "      <td>38</td>\n",
       "      <td>0</td>\n",
       "      <td>0.0</td>\n",
       "      <td>6.0</td>\n",
       "      <td>0.222136</td>\n",
       "      <td>0.250000</td>\n",
       "    </tr>\n",
       "  </tbody>\n",
       "</table>\n",
       "</div>"
      ],
      "text/plain": [
       "       shop_id  item_id  date_block_num  target  num_holidays  \\\n",
       "22987        2       30               0     0.0           6.0   \n",
       "20994        2       31               0     0.0           6.0   \n",
       "20995        2       32               0     0.0           6.0   \n",
       "22492        2       33               0     1.0           6.0   \n",
       "22491        2       38               0     0.0           6.0   \n",
       "\n",
       "       item_target_enc  shop_target_enc  \n",
       "22987         0.222136         0.222136  \n",
       "20994         0.222136         0.000000  \n",
       "20995         0.222136         0.000000  \n",
       "22492         0.222136         0.000000  \n",
       "22491         0.222136         0.250000  "
      ]
     },
     "execution_count": 15,
     "metadata": {},
     "output_type": "execute_result"
    }
   ],
   "source": [
    "df_Train.head()"
   ]
  },
  {
   "cell_type": "markdown",
   "metadata": {},
   "source": [
    "# Feature Engineering"
   ]
  },
  {
   "cell_type": "code",
   "execution_count": 4,
   "metadata": {},
   "outputs": [],
   "source": [
    "# get national holidays from https://www.officeholidays.com/countries/russia/2013.php\n",
    "num_holidays = [6, 1, 1, 0, 5, 1, 0, 0, 0, 0, 1, 0, 6, 1, 1, 0, 3, 2, 0, 0, 0, 0, 2, 0, 7, 1, 1, 0, 4, 4, 0, 0, 0, 0, 1, 0]\n",
    "for i in range(len(num_holidays)):\n",
    "    df_Train.loc[df_Train['date_block_num'] == i, 'num_holidays'] = num_holidays[i]"
   ]
  },
  {
   "cell_type": "code",
   "execution_count": 7,
   "metadata": {},
   "outputs": [],
   "source": [
    "# item mean encoding using Expanding mean scheme\n",
    "global_mean = df_Train.target.mean()\n",
    "\n",
    "cumsum = df_Train.groupby('item_id')['target'].cumsum() - df_Train['target']\n",
    "cumcount = df_Train.groupby('item_id')['target'].cumcount()\n",
    "\n",
    "df_Train['item_target_enc']= cumsum / cumcount\n",
    "df_Train['item_target_enc'].fillna(global_mean, inplace=True)"
   ]
  },
  {
   "cell_type": "code",
   "execution_count": 8,
   "metadata": {},
   "outputs": [],
   "source": [
    "# shop mean encoding using Expanding mean scheme\n",
    "global_mean = df_Train.target.mean()\n",
    "\n",
    "cumsum = df_Train.groupby('shop_id')['target'].cumsum() - df_Train['target']\n",
    "cumcount = df_Train.groupby('shop_id')['target'].cumcount()\n",
    "\n",
    "df_Train['shop_target_enc']= cumsum / cumcount\n",
    "df_Train['shop_target_enc'].fillna(global_mean, inplace=True)"
   ]
  },
  {
   "cell_type": "code",
   "execution_count": 26,
   "metadata": {},
   "outputs": [
    {
     "data": {
      "text/plain": [
       "-2.0           6\n",
       "-1.0         246\n",
       " 19.0        570\n",
       " 18.0        628\n",
       " 17.0        761\n",
       " 16.0        836\n",
       " 15.0       1003\n",
       " 14.0       1161\n",
       " 13.0       1482\n",
       " 12.0       1714\n",
       " 11.0       2082\n",
       " 10.0       2810\n",
       " 9.0        3553\n",
       " 8.0        4972\n",
       " 20.0       6541\n",
       " 7.0        6600\n",
       " 6.0        9838\n",
       " 5.0       15026\n",
       " 4.0       24321\n",
       " 3.0       45773\n",
       " 2.0      109854\n",
       " 1.0      359469\n",
       " 0.0     6683554\n",
       "Name: target, dtype: int64"
      ]
     },
     "execution_count": 26,
     "metadata": {},
     "output_type": "execute_result"
    }
   ],
   "source": [
    "df_Train['target'].clip(lower=-2,upper=20).value_counts(ascending=True)"
   ]
  },
  {
   "cell_type": "code",
   "execution_count": null,
   "metadata": {},
   "outputs": [],
   "source": [
    "# KNN\n",
    "import KNN\n",
    "KNN_feats = KNN.train(df_Train.drop(columns=['target']).values, df_Train['target'].clip(lower=0,upper=20).values)\n",
    "columns = []\n",
    "for i in range(KNN_feats.shape[1]):\n",
    "    columns.append('KNN' + str(i))\n",
    "KNN_feats = pd.DataFrame(KNN_feats, columns=columns)\n",
    "df_Train = pd.concat([df_Train, KNN_feats], axis=1)\n",
    "df_Train.to_hdf('All_train.hdf', key='train')"
   ]
  },
  {
   "cell_type": "code",
   "execution_count": null,
   "metadata": {},
   "outputs": [],
   "source": []
  }
 ],
 "metadata": {
  "kernelspec": {
   "display_name": "Python 3",
   "language": "python",
   "name": "python3"
  },
  "language_info": {
   "codemirror_mode": {
    "name": "ipython",
    "version": 3
   },
   "file_extension": ".py",
   "mimetype": "text/x-python",
   "name": "python",
   "nbconvert_exporter": "python",
   "pygments_lexer": "ipython3",
   "version": "3.6.5"
  }
 },
 "nbformat": 4,
 "nbformat_minor": 1
}
